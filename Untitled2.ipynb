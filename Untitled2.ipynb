{
 "cells": [
  {
   "cell_type": "code",
   "execution_count": 38,
   "id": "184a8ec1",
   "metadata": {},
   "outputs": [
    {
     "name": "stdout",
     "output_type": "stream",
     "text": [
      "   Roll No              Name  Class  Division  Total Marks  Gender  \\\n",
      "0   3201.0      Kadam Gaurav      TE        B        500.0   Male    \n",
      "1   3202.0  Kadam Shivanjali      TE        A        560.0  Female   \n",
      "2   3203.0  Kangane Machindra     TE        B        570.0   Male    \n",
      "3   3204.0        Karad Viren     TE        A        580.0   Male    \n",
      "4   3205.0      Khare pranjal     TE        B       1000.0  Female   \n",
      "\n",
      "   Insem Marks  Endesm Marks Age  \n",
      "0         22.0          55.0  22  \n",
      "1         23.0          66.0  21  \n",
      "2         25.0          56.0  23  \n",
      "3         24.0          65.0  22  \n",
      "4         27.0         100.0  30  \n",
      "(array([4]),)\n",
      "24.0\n"
     ]
    }
   ],
   "source": [
    "import pandas as pd\n",
    "import numpy as np\n",
    "import matplotlib.pyplot as plt\n",
    "df = pd.read_csv('Students.csv') \n",
    "print(df.head())\n",
    "bool_series=pd.isnull(df['Gender'])\n",
    "df['Gender'].fillna('No Gender', inplace=True)\n",
    "df['Insem Marks'].fillna(df['Insem Marks'].median())\n",
    "col=['Roll No','Insem Marks','Total Marks','Endesm Marks']\n",
    "df[3:10]\n",
    "outlier=np.where(df['Total Marks']>600)\n",
    "#df['Total Marks'].fillna(df['Total Marks'].me\n",
    "print(outlier)\n",
    "df[bool_series]\n",
    "print(df['Insem Marks'].median())\n",
    "#df.boxplot(col)\n"
   ]
  }
 ],
 "metadata": {
  "kernelspec": {
   "display_name": "Python 3 (ipykernel)",
   "language": "python",
   "name": "python3"
  },
  "language_info": {
   "codemirror_mode": {
    "name": "ipython",
    "version": 3
   },
   "file_extension": ".py",
   "mimetype": "text/x-python",
   "name": "python",
   "nbconvert_exporter": "python",
   "pygments_lexer": "ipython3",
   "version": "3.9.7"
  }
 },
 "nbformat": 4,
 "nbformat_minor": 5
}
